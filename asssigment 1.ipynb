{
  "nbformat": 4,
  "nbformat_minor": 0,
  "metadata": {
    "colab": {
      "provenance": [],
      "authorship_tag": "ABX9TyNBbfgOlU/iDLNHMidEQ3E0",
      "include_colab_link": true
    },
    "kernelspec": {
      "name": "python3",
      "display_name": "Python 3"
    },
    "language_info": {
      "name": "python"
    }
  },
  "cells": [
    {
      "cell_type": "markdown",
      "metadata": {
        "id": "view-in-github",
        "colab_type": "text"
      },
      "source": [
        "<a href=\"https://colab.research.google.com/github/faiqaaa/faiqaaa123.github.io/blob/main/asssigment%201.ipynb\" target=\"_parent\"><img src=\"https://colab.research.google.com/assets/colab-badge.svg\" alt=\"Open In Colab\"/></a>"
      ]
    },
    {
      "cell_type": "code",
      "execution_count": null,
      "metadata": {
        "id": "wiWSWjIGGw7d"
      },
      "outputs": [],
      "source": [
        "friut =[\"apple\",\"banana\",\"cherry\",\"mango\",\"stawberry\"]\n"
      ]
    },
    {
      "cell_type": "code",
      "source": [
        "#dispaly all friut using for loop\n",
        "for x   in friut :\n",
        "    print(x)"
      ],
      "metadata": {
        "colab": {
          "base_uri": "https://localhost:8080/"
        },
        "id": "PC57ReIrHDCi",
        "outputId": "dab5fb9d-061f-4a6e-e95e-8b1c182eef75"
      },
      "execution_count": null,
      "outputs": [
        {
          "output_type": "stream",
          "name": "stdout",
          "text": [
            "apple\n",
            "banana\n",
            "cherry\n",
            "mango\n",
            "stawberry\n"
          ]
        }
      ]
    },
    {
      "cell_type": "code",
      "source": [
        "numbers =(1,2,3,4,5,6,7,8,9)\n",
        "for x in numbers:\n",
        "    print(x)"
      ],
      "metadata": {
        "colab": {
          "base_uri": "https://localhost:8080/"
        },
        "id": "FN3LvkNSHpkx",
        "outputId": "e6bc001b-85e2-44f2-c0d4-ee93586108c2"
      },
      "execution_count": null,
      "outputs": [
        {
          "output_type": "stream",
          "name": "stdout",
          "text": [
            "1\n",
            "2\n",
            "3\n",
            "4\n",
            "5\n",
            "6\n",
            "7\n",
            "8\n",
            "9\n"
          ]
        }
      ]
    },
    {
      "cell_type": "code",
      "source": [],
      "metadata": {
        "colab": {
          "base_uri": "https://localhost:8080/"
        },
        "id": "qYVe_jTSQMQq",
        "outputId": "853c7be4-d9ed-4511-f53a-a3c406e3a1c6"
      },
      "execution_count": null,
      "outputs": [
        {
          "output_type": "stream",
          "name": "stdout",
          "text": [
            "red\n",
            "green\n",
            "yellow\n"
          ]
        }
      ]
    },
    {
      "cell_type": "code",
      "source": [
        "student = {\"name\": \"faiqa\",\n",
        "          \"age\": 23,\n",
        "          \"grade\": \"a+\",\n",
        "}\n",
        "print(\"key is the dictionary:\")\n",
        "for key in student:\n",
        "    print(key)\n",
        "print(\"\\nvalue the the student dictionary:\")\n",
        "for value in student:\n",
        "      print(value)"
      ],
      "metadata": {
        "colab": {
          "base_uri": "https://localhost:8080/"
        },
        "id": "NHg30Iw-WukH",
        "outputId": "a223f643-29d6-4e8e-c85f-27cec7115c1c"
      },
      "execution_count": null,
      "outputs": [
        {
          "output_type": "stream",
          "name": "stdout",
          "text": [
            "key is the dictionary:\n",
            "name\n",
            "age\n",
            "grade\n",
            "\n",
            "value the the student dictionary:\n",
            "name\n",
            "age\n",
            "grade\n"
          ]
        }
      ]
    },
    {
      "cell_type": "code",
      "source": [
        "#Write an if statement to check if the length of the \"fruits\" list is greater than 3. If it\n",
        "#is, print \"You have many fruits!\".\n",
        "\n",
        "fruit = [\"apple\", \"banana\"]\n",
        "if len(fruit) > 3:\n",
        "      print(\"you have many fruit!\")\n",
        "else:\n",
        "      print(\"you dnt have many fruit\")"
      ],
      "metadata": {
        "colab": {
          "base_uri": "https://localhost:8080/"
        },
        "id": "vJmfaT-SaV5l",
        "outputId": "a5a57afd-5ac1-4f7a-9159-ccc2d43e9b96"
      },
      "execution_count": null,
      "outputs": [
        {
          "output_type": "stream",
          "name": "stdout",
          "text": [
            "you dnt have many fruit\n"
          ]
        }
      ]
    },
    {
      "cell_type": "code",
      "source": [
        "# Take input from the user\n",
        "numerical_grade = float(input(\"Enter the student's numerical grade: \"))\n",
        "\n",
        "# Determine the letter grade\n",
        "if numerical_grade >= 90:\n",
        "    letter_grade = \"A\"\n",
        "elif numerical_grade >= 80:\n",
        "    letter_grade = \"B\"\n",
        "elif numerical_grade >= 70:\n",
        "    letter_grade = \"C\"\n",
        "elif numerical_grade >= 60:\n",
        "    letter_grade = \"D\"\n",
        "else:\n",
        "    letter_grade = \"F\"\n",
        "\n",
        "# Print the letter grade\n",
        "print(f\"The corresponding letter grade is: {letter_grade}\")\n"
      ],
      "metadata": {
        "colab": {
          "base_uri": "https://localhost:8080/"
        },
        "id": "02FPxL2Ub1jg",
        "outputId": "b4d35643-c91b-4851-890c-2deb25a1f761"
      },
      "execution_count": null,
      "outputs": [
        {
          "output_type": "stream",
          "name": "stdout",
          "text": [
            "Enter the student's numerical grade: 76\n",
            "The corresponding letter grade is: C\n"
          ]
        }
      ]
    },
    {
      "cell_type": "code",
      "source": [
        "numerical_grade\")\n"
      ],
      "metadata": {
        "colab": {
          "base_uri": "https://localhost:8080/"
        },
        "id": "STbAL8LfcVS5",
        "outputId": "e9939e1a-c4df-472e-9b95-fa650c498578"
      },
      "execution_count": null,
      "outputs": [
        {
          "output_type": "stream",
          "name": "stdout",
          "text": [
            "Enterrr thee student's numerical grade: 101\n",
            "the corresponding letter grade is: B\n"
          ]
        }
      ]
    },
    {
      "cell_type": "code",
      "source": [
        "temparature = float(input(\"enter the temprature celuis\"))\n",
        "if temparature <= 0:\n",
        "  category = \"freezing\"\n",
        "elif temparature >0 and temparature <=10:\n",
        "  category = \"cold\"\n",
        "elif temparature >10 and temparature <=20:\n",
        "  category = \"MODERator\"\n",
        "elif temparature >20 and temparature <=30:\n",
        "   category = \"warm\"\n",
        "else:\n",
        "   category = \"hot\"\n",
        "print (f\"the temparature is clasified as: {category}\")\n"
      ],
      "metadata": {
        "id": "4IXnarjKmB8q"
      },
      "execution_count": null,
      "outputs": []
    },
    {
      "cell_type": "code",
      "source": [
        "!pip install notebook\n"
      ],
      "metadata": {
        "id": "IjrLFtXApE23"
      },
      "execution_count": null,
      "outputs": []
    },
    {
      "cell_type": "code",
      "source": [
        "print(\"\\nValues in the student dictionary:\")\n",
        "for value in student.values():\n",
        "    print(value)\n"
      ],
      "metadata": {
        "colab": {
          "base_uri": "https://localhost:8080/"
        },
        "id": "6Q0UPxMXYwCc",
        "outputId": "34e57422-feb7-4cf0-83aa-3b7aabb2ca22"
      },
      "execution_count": null,
      "outputs": [
        {
          "output_type": "stream",
          "name": "stdout",
          "text": [
            "\n",
            "Values in the student dictionary:\n",
            "faiqa\n",
            "23\n",
            "a+\n"
          ]
        }
      ]
    }
  ]
}